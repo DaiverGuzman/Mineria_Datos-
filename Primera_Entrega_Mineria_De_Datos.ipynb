{
  "nbformat": 4,
  "nbformat_minor": 0,
  "metadata": {
    "colab": {
      "provenance": [],
      "collapsed_sections": []
    },
    "kernelspec": {
      "name": "python3",
      "display_name": "Python 3"
    },
    "language_info": {
      "name": "python"
    }
  },
  "cells": [
    {
      "cell_type": "markdown",
      "source": [
        "# *Primera Entrega – Métodos De Minería De Datos En Python* #"
      ],
      "metadata": {
        "id": "3PCXmjr5CsBa"
      }
    },
    {
      "cell_type": "markdown",
      "source": [
        "#### Datos: Hábitos Alimentarios Y Condición Física #####"
      ],
      "metadata": {
        "id": "VCXbS8mNLaah"
      }
    },
    {
      "cell_type": "markdown",
      "source": [
        "#### Ubicación de la fuente de datos: Barranquilla - Colombia, Lima - Perú, Ciudad de México - México"
      ],
      "metadata": {
        "id": "iOttYGlRrmRN"
      }
    },
    {
      "cell_type": "markdown",
      "source": [
        "### Información del conjunto de datos: ###"
      ],
      "metadata": {
        "id": "4S-iBdsSLoL9"
      }
    },
    {
      "cell_type": "markdown",
      "source": [
        "#### El conjunto de datos seleccionado es para medir el nivel de obesidad en personas a partir de una muestra obtenida. Para la recopilación de datos se usó una encuetas online, donde los encuestados respondieron diferentes preguntas sobre sus hábitos alimenticios y su condición física. A partir de los resultados de la encuesta, se procesaron obteniendo 17 atributos o variables y 2.111 registros. Estos datos corresponden al área de salud y se cataloga el conjunto de datos como multivariado. Los datos obtenidos se componen de datos numéricos y datos continuos, podrían ser utilizados para el análisis basado en algoritmos de clasificación, predicción o segmentación. ###"
      ],
      "metadata": {
        "id": "e6L86OdVLuSd"
      }
    },
    {
      "cell_type": "markdown",
      "source": [
        "Encuesta\n",
        "Preguntas de la encuesta utilizadas para la recolección inicial de información:\n",
        "* ¿Cuál es su género?\n",
        "* ¿Cuál es tu edad?\n",
        "* ¿Cuál es su peso?\n",
        "* ¿Algún familiar ha sufrido o sufre de sobrepeso?\n",
        "* ¿Consume frecuentemente alimentos de alto contenido calórico?\n",
        "* ¿Suele comer verduras en sus comidas?\n",
        "* ¿Cuántas comidas principales realiza diariamente?\n",
        "* ¿Consume algún alimento entre comidas?\n",
        "* ¿Fuma?\n",
        "* ¿Cuánta agua bebe diariamente?\n",
        "* ¿Controlas las calorías que consumes diariamente?\n",
        "* ¿Con qué frecuencia realiza actividad física?\n",
        "* ¿Cuánto tiempo utiliza los dispositivos tecnológicos como el teléfono móvil, los videojuegos, la televisión, el ordenador y otros?\n",
        "* ¿Con qué frecuencia bebe alcohol?\n",
        "* ¿Qué medios de transporte utiliza habitualmente?\n"
      ],
      "metadata": {
        "id": "qfBuqIpxrvk0"
      }
    },
    {
      "cell_type": "markdown",
      "source": [
        "Variables:\n",
        "* Género\n",
        "*\tEdad\n",
        "*\tEstatura\n",
        "*\tPeso\n",
        "*\tHistoria familiar con sobrepeso\n",
        "*\tFAVC: Consumo frecuente de alimentos de alto contenido calórico\n",
        "*\tFCVC: Frecuencia de consumo de verduras\n",
        "*\tNCP: Número de comidas principales\n",
        "*\tCAEC: Consumo de alimentos entre comidas\n",
        "*\tHUMO\n",
        "*\tCH2O: Consumo de agua diario\n",
        "*\tSCC: Seguimiento del consumo de calorías\n",
        "*\tFAF: Frecuencia de actividad física\n",
        "*\tTUE: Tiempo de uso de dispositivos tecnológicos\n",
        "*\tCALC\n",
        "*\tMTRANS: Transporte utilizado\n",
        "*\tNObeyesdad: Nivel de Obesidad"
      ],
      "metadata": {
        "id": "hOXnU8HDsDhk"
      }
    },
    {
      "cell_type": "markdown",
      "source": [
        "**Nota:** La variable Nivel de Obesidad permite clasificar los datos utilizando los valores de Peso Insuficiente, Peso Normal, Nivel de Sobrepeso I, Nivel de Sobrepeso II, Obesidad Tipo I, Obesidad Tipo II y Obesidad Tipo III."
      ],
      "metadata": {
        "id": "6js_-B4Zshvs"
      }
    },
    {
      "cell_type": "markdown",
      "source": [
        "#### Posible solución en minería de datos ####"
      ],
      "metadata": {
        "id": "E9OjDY_Cs1b1"
      }
    },
    {
      "cell_type": "markdown",
      "source": [
        "Para el trabajo se propone inicialmente como escenario la solución de un aprendizaje supervisado de clasificación, se desarrollar un modelo para la estimación de los niveles de obesidad en las personas encuestadas.\n"
      ],
      "metadata": {
        "id": "x7AHYNQpsu-l"
      }
    },
    {
      "cell_type": "markdown",
      "source": [
        "### Librerías ####"
      ],
      "metadata": {
        "id": "UNk4NS_2LiWD"
      }
    },
    {
      "cell_type": "code",
      "source": [
        "! pip install altair vega_datasets"
      ],
      "metadata": {
        "colab": {
          "base_uri": "https://localhost:8080/"
        },
        "id": "bYhIc8thMIYZ",
        "outputId": "90afa917-f4b8-494c-b6cb-fe2994f35123"
      },
      "execution_count": 2,
      "outputs": [
        {
          "output_type": "stream",
          "name": "stdout",
          "text": [
            "Looking in indexes: https://pypi.org/simple, https://us-python.pkg.dev/colab-wheels/public/simple/\n",
            "Requirement already satisfied: altair in /usr/local/lib/python3.7/dist-packages (4.2.0)\n",
            "Requirement already satisfied: vega_datasets in /usr/local/lib/python3.7/dist-packages (0.9.0)\n",
            "Requirement already satisfied: jsonschema>=3.0 in /usr/local/lib/python3.7/dist-packages (from altair) (4.3.3)\n",
            "Requirement already satisfied: toolz in /usr/local/lib/python3.7/dist-packages (from altair) (0.12.0)\n",
            "Requirement already satisfied: entrypoints in /usr/local/lib/python3.7/dist-packages (from altair) (0.4)\n",
            "Requirement already satisfied: jinja2 in /usr/local/lib/python3.7/dist-packages (from altair) (2.11.3)\n",
            "Requirement already satisfied: numpy in /usr/local/lib/python3.7/dist-packages (from altair) (1.21.6)\n",
            "Requirement already satisfied: pandas>=0.18 in /usr/local/lib/python3.7/dist-packages (from altair) (1.3.5)\n",
            "Requirement already satisfied: attrs>=17.4.0 in /usr/local/lib/python3.7/dist-packages (from jsonschema>=3.0->altair) (22.1.0)\n",
            "Requirement already satisfied: pyrsistent!=0.17.0,!=0.17.1,!=0.17.2,>=0.14.0 in /usr/local/lib/python3.7/dist-packages (from jsonschema>=3.0->altair) (0.18.1)\n",
            "Requirement already satisfied: typing-extensions in /usr/local/lib/python3.7/dist-packages (from jsonschema>=3.0->altair) (4.1.1)\n",
            "Requirement already satisfied: importlib-resources>=1.4.0 in /usr/local/lib/python3.7/dist-packages (from jsonschema>=3.0->altair) (5.9.0)\n",
            "Requirement already satisfied: importlib-metadata in /usr/local/lib/python3.7/dist-packages (from jsonschema>=3.0->altair) (4.12.0)\n",
            "Requirement already satisfied: zipp>=3.1.0 in /usr/local/lib/python3.7/dist-packages (from importlib-resources>=1.4.0->jsonschema>=3.0->altair) (3.8.1)\n",
            "Requirement already satisfied: pytz>=2017.3 in /usr/local/lib/python3.7/dist-packages (from pandas>=0.18->altair) (2022.2.1)\n",
            "Requirement already satisfied: python-dateutil>=2.7.3 in /usr/local/lib/python3.7/dist-packages (from pandas>=0.18->altair) (2.8.2)\n",
            "Requirement already satisfied: six>=1.5 in /usr/local/lib/python3.7/dist-packages (from python-dateutil>=2.7.3->pandas>=0.18->altair) (1.15.0)\n",
            "Requirement already satisfied: MarkupSafe>=0.23 in /usr/local/lib/python3.7/dist-packages (from jinja2->altair) (2.0.1)\n"
          ]
        }
      ]
    },
    {
      "cell_type": "code",
      "source": [
        "import pandas as pd\n",
        "import numpy as np\n",
        "import seaborn as sns\n",
        "import matplotlib as plt\n",
        "import matplotlib.pyplot as plt\n",
        "import altair as alt\n",
        "from vega_datasets import data"
      ],
      "metadata": {
        "id": "_vCkAVTnL7aK"
      },
      "execution_count": 3,
      "outputs": []
    },
    {
      "cell_type": "markdown",
      "source": [
        "#### Datos ####"
      ],
      "metadata": {
        "id": "-4tl0N1MMkA_"
      }
    },
    {
      "cell_type": "code",
      "source": [
        "from google.colab import drive\n",
        "drive.mount('/content/drive')"
      ],
      "metadata": {
        "colab": {
          "base_uri": "https://localhost:8080/"
        },
        "id": "71EybZ5eMjkj",
        "outputId": "a7042237-9d82-4630-82d5-a4a49ecfa705"
      },
      "execution_count": 4,
      "outputs": [
        {
          "output_type": "stream",
          "name": "stdout",
          "text": [
            "Mounted at /content/drive\n"
          ]
        }
      ]
    },
    {
      "cell_type": "code",
      "source": [
        "Datos = pd.read_csv('/content/drive/MyDrive/DataSet_Métodos_Minería_Datos_Python/ObesityDataSet.csv', \n",
        "                 sep = ',',\n",
        "                 index_col=0,\n",
        "                 error_bad_lines=False,\n",
        "                 dtype={\n",
        "                     'Nit Entidad': str\n",
        "                 })\n",
        "Datos.head()"
      ],
      "metadata": {
        "colab": {
          "base_uri": "https://localhost:8080/",
          "height": 307
        },
        "id": "XjfV4Ip-L7Ya",
        "outputId": "92bcf763-5b53-4e3c-c20e-3f928e468e2e"
      },
      "execution_count": 5,
      "outputs": [
        {
          "output_type": "stream",
          "name": "stderr",
          "text": [
            "/usr/local/lib/python3.7/dist-packages/IPython/core/interactiveshell.py:3326: FutureWarning: The error_bad_lines argument has been deprecated and will be removed in a future version.\n",
            "\n",
            "\n",
            "  exec(code_obj, self.user_global_ns, self.user_ns)\n"
          ]
        },
        {
          "output_type": "execute_result",
          "data": {
            "text/plain": [
              "         Age  Height  Weight family_history_with_overweight FAVC  FCVC  NCP  \\\n",
              "Gender                                                                        \n",
              "Female  21.0    1.62    64.0                            yes   no   2.0  3.0   \n",
              "Female  21.0    1.52    56.0                            yes   no   3.0  3.0   \n",
              "Male    23.0    1.80    77.0                            yes   no   2.0  3.0   \n",
              "Male    27.0    1.80    87.0                             no   no   3.0  3.0   \n",
              "Male    22.0    1.78    89.8                             no   no   2.0  1.0   \n",
              "\n",
              "             CAEC SMOKE  CH2O  SCC  FAF  TUE        CALC  \\\n",
              "Gender                                                     \n",
              "Female  Sometimes    no   2.0   no  0.0  1.0          no   \n",
              "Female  Sometimes   yes   3.0  yes  3.0  0.0   Sometimes   \n",
              "Male    Sometimes    no   2.0   no  2.0  1.0  Frequently   \n",
              "Male    Sometimes    no   2.0   no  2.0  0.0  Frequently   \n",
              "Male    Sometimes    no   2.0   no  0.0  0.0   Sometimes   \n",
              "\n",
              "                       MTRANS           NObeyesdad  \n",
              "Gender                                              \n",
              "Female  Public_Transportation        Normal_Weight  \n",
              "Female  Public_Transportation        Normal_Weight  \n",
              "Male    Public_Transportation        Normal_Weight  \n",
              "Male                  Walking   Overweight_Level_I  \n",
              "Male    Public_Transportation  Overweight_Level_II  "
            ],
            "text/html": [
              "\n",
              "  <div id=\"df-3f2fdc8b-d0a3-4b90-87bc-6c1f30c4ac88\">\n",
              "    <div class=\"colab-df-container\">\n",
              "      <div>\n",
              "<style scoped>\n",
              "    .dataframe tbody tr th:only-of-type {\n",
              "        vertical-align: middle;\n",
              "    }\n",
              "\n",
              "    .dataframe tbody tr th {\n",
              "        vertical-align: top;\n",
              "    }\n",
              "\n",
              "    .dataframe thead th {\n",
              "        text-align: right;\n",
              "    }\n",
              "</style>\n",
              "<table border=\"1\" class=\"dataframe\">\n",
              "  <thead>\n",
              "    <tr style=\"text-align: right;\">\n",
              "      <th></th>\n",
              "      <th>Age</th>\n",
              "      <th>Height</th>\n",
              "      <th>Weight</th>\n",
              "      <th>family_history_with_overweight</th>\n",
              "      <th>FAVC</th>\n",
              "      <th>FCVC</th>\n",
              "      <th>NCP</th>\n",
              "      <th>CAEC</th>\n",
              "      <th>SMOKE</th>\n",
              "      <th>CH2O</th>\n",
              "      <th>SCC</th>\n",
              "      <th>FAF</th>\n",
              "      <th>TUE</th>\n",
              "      <th>CALC</th>\n",
              "      <th>MTRANS</th>\n",
              "      <th>NObeyesdad</th>\n",
              "    </tr>\n",
              "    <tr>\n",
              "      <th>Gender</th>\n",
              "      <th></th>\n",
              "      <th></th>\n",
              "      <th></th>\n",
              "      <th></th>\n",
              "      <th></th>\n",
              "      <th></th>\n",
              "      <th></th>\n",
              "      <th></th>\n",
              "      <th></th>\n",
              "      <th></th>\n",
              "      <th></th>\n",
              "      <th></th>\n",
              "      <th></th>\n",
              "      <th></th>\n",
              "      <th></th>\n",
              "      <th></th>\n",
              "    </tr>\n",
              "  </thead>\n",
              "  <tbody>\n",
              "    <tr>\n",
              "      <th>Female</th>\n",
              "      <td>21.0</td>\n",
              "      <td>1.62</td>\n",
              "      <td>64.0</td>\n",
              "      <td>yes</td>\n",
              "      <td>no</td>\n",
              "      <td>2.0</td>\n",
              "      <td>3.0</td>\n",
              "      <td>Sometimes</td>\n",
              "      <td>no</td>\n",
              "      <td>2.0</td>\n",
              "      <td>no</td>\n",
              "      <td>0.0</td>\n",
              "      <td>1.0</td>\n",
              "      <td>no</td>\n",
              "      <td>Public_Transportation</td>\n",
              "      <td>Normal_Weight</td>\n",
              "    </tr>\n",
              "    <tr>\n",
              "      <th>Female</th>\n",
              "      <td>21.0</td>\n",
              "      <td>1.52</td>\n",
              "      <td>56.0</td>\n",
              "      <td>yes</td>\n",
              "      <td>no</td>\n",
              "      <td>3.0</td>\n",
              "      <td>3.0</td>\n",
              "      <td>Sometimes</td>\n",
              "      <td>yes</td>\n",
              "      <td>3.0</td>\n",
              "      <td>yes</td>\n",
              "      <td>3.0</td>\n",
              "      <td>0.0</td>\n",
              "      <td>Sometimes</td>\n",
              "      <td>Public_Transportation</td>\n",
              "      <td>Normal_Weight</td>\n",
              "    </tr>\n",
              "    <tr>\n",
              "      <th>Male</th>\n",
              "      <td>23.0</td>\n",
              "      <td>1.80</td>\n",
              "      <td>77.0</td>\n",
              "      <td>yes</td>\n",
              "      <td>no</td>\n",
              "      <td>2.0</td>\n",
              "      <td>3.0</td>\n",
              "      <td>Sometimes</td>\n",
              "      <td>no</td>\n",
              "      <td>2.0</td>\n",
              "      <td>no</td>\n",
              "      <td>2.0</td>\n",
              "      <td>1.0</td>\n",
              "      <td>Frequently</td>\n",
              "      <td>Public_Transportation</td>\n",
              "      <td>Normal_Weight</td>\n",
              "    </tr>\n",
              "    <tr>\n",
              "      <th>Male</th>\n",
              "      <td>27.0</td>\n",
              "      <td>1.80</td>\n",
              "      <td>87.0</td>\n",
              "      <td>no</td>\n",
              "      <td>no</td>\n",
              "      <td>3.0</td>\n",
              "      <td>3.0</td>\n",
              "      <td>Sometimes</td>\n",
              "      <td>no</td>\n",
              "      <td>2.0</td>\n",
              "      <td>no</td>\n",
              "      <td>2.0</td>\n",
              "      <td>0.0</td>\n",
              "      <td>Frequently</td>\n",
              "      <td>Walking</td>\n",
              "      <td>Overweight_Level_I</td>\n",
              "    </tr>\n",
              "    <tr>\n",
              "      <th>Male</th>\n",
              "      <td>22.0</td>\n",
              "      <td>1.78</td>\n",
              "      <td>89.8</td>\n",
              "      <td>no</td>\n",
              "      <td>no</td>\n",
              "      <td>2.0</td>\n",
              "      <td>1.0</td>\n",
              "      <td>Sometimes</td>\n",
              "      <td>no</td>\n",
              "      <td>2.0</td>\n",
              "      <td>no</td>\n",
              "      <td>0.0</td>\n",
              "      <td>0.0</td>\n",
              "      <td>Sometimes</td>\n",
              "      <td>Public_Transportation</td>\n",
              "      <td>Overweight_Level_II</td>\n",
              "    </tr>\n",
              "  </tbody>\n",
              "</table>\n",
              "</div>\n",
              "      <button class=\"colab-df-convert\" onclick=\"convertToInteractive('df-3f2fdc8b-d0a3-4b90-87bc-6c1f30c4ac88')\"\n",
              "              title=\"Convert this dataframe to an interactive table.\"\n",
              "              style=\"display:none;\">\n",
              "        \n",
              "  <svg xmlns=\"http://www.w3.org/2000/svg\" height=\"24px\"viewBox=\"0 0 24 24\"\n",
              "       width=\"24px\">\n",
              "    <path d=\"M0 0h24v24H0V0z\" fill=\"none\"/>\n",
              "    <path d=\"M18.56 5.44l.94 2.06.94-2.06 2.06-.94-2.06-.94-.94-2.06-.94 2.06-2.06.94zm-11 1L8.5 8.5l.94-2.06 2.06-.94-2.06-.94L8.5 2.5l-.94 2.06-2.06.94zm10 10l.94 2.06.94-2.06 2.06-.94-2.06-.94-.94-2.06-.94 2.06-2.06.94z\"/><path d=\"M17.41 7.96l-1.37-1.37c-.4-.4-.92-.59-1.43-.59-.52 0-1.04.2-1.43.59L10.3 9.45l-7.72 7.72c-.78.78-.78 2.05 0 2.83L4 21.41c.39.39.9.59 1.41.59.51 0 1.02-.2 1.41-.59l7.78-7.78 2.81-2.81c.8-.78.8-2.07 0-2.86zM5.41 20L4 18.59l7.72-7.72 1.47 1.35L5.41 20z\"/>\n",
              "  </svg>\n",
              "      </button>\n",
              "      \n",
              "  <style>\n",
              "    .colab-df-container {\n",
              "      display:flex;\n",
              "      flex-wrap:wrap;\n",
              "      gap: 12px;\n",
              "    }\n",
              "\n",
              "    .colab-df-convert {\n",
              "      background-color: #E8F0FE;\n",
              "      border: none;\n",
              "      border-radius: 50%;\n",
              "      cursor: pointer;\n",
              "      display: none;\n",
              "      fill: #1967D2;\n",
              "      height: 32px;\n",
              "      padding: 0 0 0 0;\n",
              "      width: 32px;\n",
              "    }\n",
              "\n",
              "    .colab-df-convert:hover {\n",
              "      background-color: #E2EBFA;\n",
              "      box-shadow: 0px 1px 2px rgba(60, 64, 67, 0.3), 0px 1px 3px 1px rgba(60, 64, 67, 0.15);\n",
              "      fill: #174EA6;\n",
              "    }\n",
              "\n",
              "    [theme=dark] .colab-df-convert {\n",
              "      background-color: #3B4455;\n",
              "      fill: #D2E3FC;\n",
              "    }\n",
              "\n",
              "    [theme=dark] .colab-df-convert:hover {\n",
              "      background-color: #434B5C;\n",
              "      box-shadow: 0px 1px 3px 1px rgba(0, 0, 0, 0.15);\n",
              "      filter: drop-shadow(0px 1px 2px rgba(0, 0, 0, 0.3));\n",
              "      fill: #FFFFFF;\n",
              "    }\n",
              "  </style>\n",
              "\n",
              "      <script>\n",
              "        const buttonEl =\n",
              "          document.querySelector('#df-3f2fdc8b-d0a3-4b90-87bc-6c1f30c4ac88 button.colab-df-convert');\n",
              "        buttonEl.style.display =\n",
              "          google.colab.kernel.accessAllowed ? 'block' : 'none';\n",
              "\n",
              "        async function convertToInteractive(key) {\n",
              "          const element = document.querySelector('#df-3f2fdc8b-d0a3-4b90-87bc-6c1f30c4ac88');\n",
              "          const dataTable =\n",
              "            await google.colab.kernel.invokeFunction('convertToInteractive',\n",
              "                                                     [key], {});\n",
              "          if (!dataTable) return;\n",
              "\n",
              "          const docLinkHtml = 'Like what you see? Visit the ' +\n",
              "            '<a target=\"_blank\" href=https://colab.research.google.com/notebooks/data_table.ipynb>data table notebook</a>'\n",
              "            + ' to learn more about interactive tables.';\n",
              "          element.innerHTML = '';\n",
              "          dataTable['output_type'] = 'display_data';\n",
              "          await google.colab.output.renderOutput(dataTable, element);\n",
              "          const docLink = document.createElement('div');\n",
              "          docLink.innerHTML = docLinkHtml;\n",
              "          element.appendChild(docLink);\n",
              "        }\n",
              "      </script>\n",
              "    </div>\n",
              "  </div>\n",
              "  "
            ]
          },
          "metadata": {},
          "execution_count": 5
        }
      ]
    },
    {
      "cell_type": "markdown",
      "source": [
        "#### Descripción Datos ####"
      ],
      "metadata": {
        "id": "tGGyLQYEOQpX"
      }
    },
    {
      "cell_type": "code",
      "source": [
        "Datos.shape"
      ],
      "metadata": {
        "colab": {
          "base_uri": "https://localhost:8080/"
        },
        "id": "XkLHYRamOftI",
        "outputId": "5be9cc35-a68b-419d-fa0f-2f252d6f2394"
      },
      "execution_count": 6,
      "outputs": [
        {
          "output_type": "execute_result",
          "data": {
            "text/plain": [
              "(2111, 16)"
            ]
          },
          "metadata": {},
          "execution_count": 6
        }
      ]
    },
    {
      "cell_type": "code",
      "execution_count": 7,
      "metadata": {
        "colab": {
          "base_uri": "https://localhost:8080/",
          "height": 300
        },
        "id": "UbSJnafFCqrB",
        "outputId": "729b9b49-b901-4cad-e5f2-ad14be28b676"
      },
      "outputs": [
        {
          "output_type": "execute_result",
          "data": {
            "text/plain": [
              "               Age       Height       Weight         FCVC          NCP  \\\n",
              "count  2111.000000  2111.000000  2111.000000  2111.000000  2111.000000   \n",
              "mean     24.312600     1.701677    86.586058     2.419043     2.685628   \n",
              "std       6.345968     0.093305    26.191172     0.533927     0.778039   \n",
              "min      14.000000     1.450000    39.000000     1.000000     1.000000   \n",
              "25%      19.947192     1.630000    65.473343     2.000000     2.658738   \n",
              "50%      22.777890     1.700499    83.000000     2.385502     3.000000   \n",
              "75%      26.000000     1.768464   107.430682     3.000000     3.000000   \n",
              "max      61.000000     1.980000   173.000000     3.000000     4.000000   \n",
              "\n",
              "              CH2O          FAF          TUE  \n",
              "count  2111.000000  2111.000000  2111.000000  \n",
              "mean      2.008011     1.010298     0.657866  \n",
              "std       0.612953     0.850592     0.608927  \n",
              "min       1.000000     0.000000     0.000000  \n",
              "25%       1.584812     0.124505     0.000000  \n",
              "50%       2.000000     1.000000     0.625350  \n",
              "75%       2.477420     1.666678     1.000000  \n",
              "max       3.000000     3.000000     2.000000  "
            ],
            "text/html": [
              "\n",
              "  <div id=\"df-d96aafb9-1f73-4cfc-8041-61db1f68fc98\">\n",
              "    <div class=\"colab-df-container\">\n",
              "      <div>\n",
              "<style scoped>\n",
              "    .dataframe tbody tr th:only-of-type {\n",
              "        vertical-align: middle;\n",
              "    }\n",
              "\n",
              "    .dataframe tbody tr th {\n",
              "        vertical-align: top;\n",
              "    }\n",
              "\n",
              "    .dataframe thead th {\n",
              "        text-align: right;\n",
              "    }\n",
              "</style>\n",
              "<table border=\"1\" class=\"dataframe\">\n",
              "  <thead>\n",
              "    <tr style=\"text-align: right;\">\n",
              "      <th></th>\n",
              "      <th>Age</th>\n",
              "      <th>Height</th>\n",
              "      <th>Weight</th>\n",
              "      <th>FCVC</th>\n",
              "      <th>NCP</th>\n",
              "      <th>CH2O</th>\n",
              "      <th>FAF</th>\n",
              "      <th>TUE</th>\n",
              "    </tr>\n",
              "  </thead>\n",
              "  <tbody>\n",
              "    <tr>\n",
              "      <th>count</th>\n",
              "      <td>2111.000000</td>\n",
              "      <td>2111.000000</td>\n",
              "      <td>2111.000000</td>\n",
              "      <td>2111.000000</td>\n",
              "      <td>2111.000000</td>\n",
              "      <td>2111.000000</td>\n",
              "      <td>2111.000000</td>\n",
              "      <td>2111.000000</td>\n",
              "    </tr>\n",
              "    <tr>\n",
              "      <th>mean</th>\n",
              "      <td>24.312600</td>\n",
              "      <td>1.701677</td>\n",
              "      <td>86.586058</td>\n",
              "      <td>2.419043</td>\n",
              "      <td>2.685628</td>\n",
              "      <td>2.008011</td>\n",
              "      <td>1.010298</td>\n",
              "      <td>0.657866</td>\n",
              "    </tr>\n",
              "    <tr>\n",
              "      <th>std</th>\n",
              "      <td>6.345968</td>\n",
              "      <td>0.093305</td>\n",
              "      <td>26.191172</td>\n",
              "      <td>0.533927</td>\n",
              "      <td>0.778039</td>\n",
              "      <td>0.612953</td>\n",
              "      <td>0.850592</td>\n",
              "      <td>0.608927</td>\n",
              "    </tr>\n",
              "    <tr>\n",
              "      <th>min</th>\n",
              "      <td>14.000000</td>\n",
              "      <td>1.450000</td>\n",
              "      <td>39.000000</td>\n",
              "      <td>1.000000</td>\n",
              "      <td>1.000000</td>\n",
              "      <td>1.000000</td>\n",
              "      <td>0.000000</td>\n",
              "      <td>0.000000</td>\n",
              "    </tr>\n",
              "    <tr>\n",
              "      <th>25%</th>\n",
              "      <td>19.947192</td>\n",
              "      <td>1.630000</td>\n",
              "      <td>65.473343</td>\n",
              "      <td>2.000000</td>\n",
              "      <td>2.658738</td>\n",
              "      <td>1.584812</td>\n",
              "      <td>0.124505</td>\n",
              "      <td>0.000000</td>\n",
              "    </tr>\n",
              "    <tr>\n",
              "      <th>50%</th>\n",
              "      <td>22.777890</td>\n",
              "      <td>1.700499</td>\n",
              "      <td>83.000000</td>\n",
              "      <td>2.385502</td>\n",
              "      <td>3.000000</td>\n",
              "      <td>2.000000</td>\n",
              "      <td>1.000000</td>\n",
              "      <td>0.625350</td>\n",
              "    </tr>\n",
              "    <tr>\n",
              "      <th>75%</th>\n",
              "      <td>26.000000</td>\n",
              "      <td>1.768464</td>\n",
              "      <td>107.430682</td>\n",
              "      <td>3.000000</td>\n",
              "      <td>3.000000</td>\n",
              "      <td>2.477420</td>\n",
              "      <td>1.666678</td>\n",
              "      <td>1.000000</td>\n",
              "    </tr>\n",
              "    <tr>\n",
              "      <th>max</th>\n",
              "      <td>61.000000</td>\n",
              "      <td>1.980000</td>\n",
              "      <td>173.000000</td>\n",
              "      <td>3.000000</td>\n",
              "      <td>4.000000</td>\n",
              "      <td>3.000000</td>\n",
              "      <td>3.000000</td>\n",
              "      <td>2.000000</td>\n",
              "    </tr>\n",
              "  </tbody>\n",
              "</table>\n",
              "</div>\n",
              "      <button class=\"colab-df-convert\" onclick=\"convertToInteractive('df-d96aafb9-1f73-4cfc-8041-61db1f68fc98')\"\n",
              "              title=\"Convert this dataframe to an interactive table.\"\n",
              "              style=\"display:none;\">\n",
              "        \n",
              "  <svg xmlns=\"http://www.w3.org/2000/svg\" height=\"24px\"viewBox=\"0 0 24 24\"\n",
              "       width=\"24px\">\n",
              "    <path d=\"M0 0h24v24H0V0z\" fill=\"none\"/>\n",
              "    <path d=\"M18.56 5.44l.94 2.06.94-2.06 2.06-.94-2.06-.94-.94-2.06-.94 2.06-2.06.94zm-11 1L8.5 8.5l.94-2.06 2.06-.94-2.06-.94L8.5 2.5l-.94 2.06-2.06.94zm10 10l.94 2.06.94-2.06 2.06-.94-2.06-.94-.94-2.06-.94 2.06-2.06.94z\"/><path d=\"M17.41 7.96l-1.37-1.37c-.4-.4-.92-.59-1.43-.59-.52 0-1.04.2-1.43.59L10.3 9.45l-7.72 7.72c-.78.78-.78 2.05 0 2.83L4 21.41c.39.39.9.59 1.41.59.51 0 1.02-.2 1.41-.59l7.78-7.78 2.81-2.81c.8-.78.8-2.07 0-2.86zM5.41 20L4 18.59l7.72-7.72 1.47 1.35L5.41 20z\"/>\n",
              "  </svg>\n",
              "      </button>\n",
              "      \n",
              "  <style>\n",
              "    .colab-df-container {\n",
              "      display:flex;\n",
              "      flex-wrap:wrap;\n",
              "      gap: 12px;\n",
              "    }\n",
              "\n",
              "    .colab-df-convert {\n",
              "      background-color: #E8F0FE;\n",
              "      border: none;\n",
              "      border-radius: 50%;\n",
              "      cursor: pointer;\n",
              "      display: none;\n",
              "      fill: #1967D2;\n",
              "      height: 32px;\n",
              "      padding: 0 0 0 0;\n",
              "      width: 32px;\n",
              "    }\n",
              "\n",
              "    .colab-df-convert:hover {\n",
              "      background-color: #E2EBFA;\n",
              "      box-shadow: 0px 1px 2px rgba(60, 64, 67, 0.3), 0px 1px 3px 1px rgba(60, 64, 67, 0.15);\n",
              "      fill: #174EA6;\n",
              "    }\n",
              "\n",
              "    [theme=dark] .colab-df-convert {\n",
              "      background-color: #3B4455;\n",
              "      fill: #D2E3FC;\n",
              "    }\n",
              "\n",
              "    [theme=dark] .colab-df-convert:hover {\n",
              "      background-color: #434B5C;\n",
              "      box-shadow: 0px 1px 3px 1px rgba(0, 0, 0, 0.15);\n",
              "      filter: drop-shadow(0px 1px 2px rgba(0, 0, 0, 0.3));\n",
              "      fill: #FFFFFF;\n",
              "    }\n",
              "  </style>\n",
              "\n",
              "      <script>\n",
              "        const buttonEl =\n",
              "          document.querySelector('#df-d96aafb9-1f73-4cfc-8041-61db1f68fc98 button.colab-df-convert');\n",
              "        buttonEl.style.display =\n",
              "          google.colab.kernel.accessAllowed ? 'block' : 'none';\n",
              "\n",
              "        async function convertToInteractive(key) {\n",
              "          const element = document.querySelector('#df-d96aafb9-1f73-4cfc-8041-61db1f68fc98');\n",
              "          const dataTable =\n",
              "            await google.colab.kernel.invokeFunction('convertToInteractive',\n",
              "                                                     [key], {});\n",
              "          if (!dataTable) return;\n",
              "\n",
              "          const docLinkHtml = 'Like what you see? Visit the ' +\n",
              "            '<a target=\"_blank\" href=https://colab.research.google.com/notebooks/data_table.ipynb>data table notebook</a>'\n",
              "            + ' to learn more about interactive tables.';\n",
              "          element.innerHTML = '';\n",
              "          dataTable['output_type'] = 'display_data';\n",
              "          await google.colab.output.renderOutput(dataTable, element);\n",
              "          const docLink = document.createElement('div');\n",
              "          docLink.innerHTML = docLinkHtml;\n",
              "          element.appendChild(docLink);\n",
              "        }\n",
              "      </script>\n",
              "    </div>\n",
              "  </div>\n",
              "  "
            ]
          },
          "metadata": {},
          "execution_count": 7
        }
      ],
      "source": [
        "Datos.describe()"
      ]
    },
    {
      "cell_type": "markdown",
      "source": [
        "#### Análisis Exploratorios de Datos ####"
      ],
      "metadata": {
        "id": "duMMz6nNaYRH"
      }
    },
    {
      "cell_type": "code",
      "source": [
        "print('Datos')\n",
        "print('Filas: ', Datos.shape[0])\n",
        "print('Columnas: ', Datos.shape[1])"
      ],
      "metadata": {
        "colab": {
          "base_uri": "https://localhost:8080/"
        },
        "id": "P98cEqglbHZQ",
        "outputId": "874ccb8b-0ef9-4db8-a1df-3b6cc4576e60"
      },
      "execution_count": 12,
      "outputs": [
        {
          "output_type": "stream",
          "name": "stdout",
          "text": [
            "Datos\n",
            "Filas:  2111\n",
            "Columnas:  16\n"
          ]
        }
      ]
    },
    {
      "cell_type": "code",
      "source": [
        "Datos.dtypes"
      ],
      "metadata": {
        "colab": {
          "base_uri": "https://localhost:8080/"
        },
        "id": "UxbTPJYFbWVf",
        "outputId": "66a71167-f54a-4f11-a2f2-6649064eab35"
      },
      "execution_count": 13,
      "outputs": [
        {
          "output_type": "execute_result",
          "data": {
            "text/plain": [
              "Age                               float64\n",
              "Height                            float64\n",
              "Weight                            float64\n",
              "family_history_with_overweight     object\n",
              "FAVC                               object\n",
              "FCVC                              float64\n",
              "NCP                               float64\n",
              "CAEC                               object\n",
              "SMOKE                              object\n",
              "CH2O                              float64\n",
              "SCC                                object\n",
              "FAF                               float64\n",
              "TUE                               float64\n",
              "CALC                               object\n",
              "MTRANS                             object\n",
              "NObeyesdad                         object\n",
              "dtype: object"
            ]
          },
          "metadata": {},
          "execution_count": 13
        }
      ]
    },
    {
      "cell_type": "code",
      "source": [
        "for col in Datos.columns:\n",
        "    num_missing = Datos.isnull().sum()\n",
        "    pct_missing = np.mean(Datos.isnull())\n",
        "    #print(col,\" - \",round(pct_missing*100, 2),\"% - \",num_missing)\n",
        "    print('{} - {}% - {}'.format(col,round(pct_missing*100, 2),num_missing))"
      ],
      "metadata": {
        "colab": {
          "base_uri": "https://localhost:8080/"
        },
        "id": "vefIrw_vbgkX",
        "outputId": "570dd01d-f2ff-496b-da56-cf3711878365"
      },
      "execution_count": 15,
      "outputs": [
        {
          "output_type": "stream",
          "name": "stdout",
          "text": [
            "Age - Age                               0.0\n",
            "Height                            0.0\n",
            "Weight                            0.0\n",
            "family_history_with_overweight    0.0\n",
            "FAVC                              0.0\n",
            "FCVC                              0.0\n",
            "NCP                               0.0\n",
            "CAEC                              0.0\n",
            "SMOKE                             0.0\n",
            "CH2O                              0.0\n",
            "SCC                               0.0\n",
            "FAF                               0.0\n",
            "TUE                               0.0\n",
            "CALC                              0.0\n",
            "MTRANS                            0.0\n",
            "NObeyesdad                        0.0\n",
            "dtype: float64% - Age                               0\n",
            "Height                            0\n",
            "Weight                            0\n",
            "family_history_with_overweight    0\n",
            "FAVC                              0\n",
            "FCVC                              0\n",
            "NCP                               0\n",
            "CAEC                              0\n",
            "SMOKE                             0\n",
            "CH2O                              0\n",
            "SCC                               0\n",
            "FAF                               0\n",
            "TUE                               0\n",
            "CALC                              0\n",
            "MTRANS                            0\n",
            "NObeyesdad                        0\n",
            "dtype: int64\n",
            "Height - Age                               0.0\n",
            "Height                            0.0\n",
            "Weight                            0.0\n",
            "family_history_with_overweight    0.0\n",
            "FAVC                              0.0\n",
            "FCVC                              0.0\n",
            "NCP                               0.0\n",
            "CAEC                              0.0\n",
            "SMOKE                             0.0\n",
            "CH2O                              0.0\n",
            "SCC                               0.0\n",
            "FAF                               0.0\n",
            "TUE                               0.0\n",
            "CALC                              0.0\n",
            "MTRANS                            0.0\n",
            "NObeyesdad                        0.0\n",
            "dtype: float64% - Age                               0\n",
            "Height                            0\n",
            "Weight                            0\n",
            "family_history_with_overweight    0\n",
            "FAVC                              0\n",
            "FCVC                              0\n",
            "NCP                               0\n",
            "CAEC                              0\n",
            "SMOKE                             0\n",
            "CH2O                              0\n",
            "SCC                               0\n",
            "FAF                               0\n",
            "TUE                               0\n",
            "CALC                              0\n",
            "MTRANS                            0\n",
            "NObeyesdad                        0\n",
            "dtype: int64\n",
            "Weight - Age                               0.0\n",
            "Height                            0.0\n",
            "Weight                            0.0\n",
            "family_history_with_overweight    0.0\n",
            "FAVC                              0.0\n",
            "FCVC                              0.0\n",
            "NCP                               0.0\n",
            "CAEC                              0.0\n",
            "SMOKE                             0.0\n",
            "CH2O                              0.0\n",
            "SCC                               0.0\n",
            "FAF                               0.0\n",
            "TUE                               0.0\n",
            "CALC                              0.0\n",
            "MTRANS                            0.0\n",
            "NObeyesdad                        0.0\n",
            "dtype: float64% - Age                               0\n",
            "Height                            0\n",
            "Weight                            0\n",
            "family_history_with_overweight    0\n",
            "FAVC                              0\n",
            "FCVC                              0\n",
            "NCP                               0\n",
            "CAEC                              0\n",
            "SMOKE                             0\n",
            "CH2O                              0\n",
            "SCC                               0\n",
            "FAF                               0\n",
            "TUE                               0\n",
            "CALC                              0\n",
            "MTRANS                            0\n",
            "NObeyesdad                        0\n",
            "dtype: int64\n",
            "family_history_with_overweight - Age                               0.0\n",
            "Height                            0.0\n",
            "Weight                            0.0\n",
            "family_history_with_overweight    0.0\n",
            "FAVC                              0.0\n",
            "FCVC                              0.0\n",
            "NCP                               0.0\n",
            "CAEC                              0.0\n",
            "SMOKE                             0.0\n",
            "CH2O                              0.0\n",
            "SCC                               0.0\n",
            "FAF                               0.0\n",
            "TUE                               0.0\n",
            "CALC                              0.0\n",
            "MTRANS                            0.0\n",
            "NObeyesdad                        0.0\n",
            "dtype: float64% - Age                               0\n",
            "Height                            0\n",
            "Weight                            0\n",
            "family_history_with_overweight    0\n",
            "FAVC                              0\n",
            "FCVC                              0\n",
            "NCP                               0\n",
            "CAEC                              0\n",
            "SMOKE                             0\n",
            "CH2O                              0\n",
            "SCC                               0\n",
            "FAF                               0\n",
            "TUE                               0\n",
            "CALC                              0\n",
            "MTRANS                            0\n",
            "NObeyesdad                        0\n",
            "dtype: int64\n",
            "FAVC - Age                               0.0\n",
            "Height                            0.0\n",
            "Weight                            0.0\n",
            "family_history_with_overweight    0.0\n",
            "FAVC                              0.0\n",
            "FCVC                              0.0\n",
            "NCP                               0.0\n",
            "CAEC                              0.0\n",
            "SMOKE                             0.0\n",
            "CH2O                              0.0\n",
            "SCC                               0.0\n",
            "FAF                               0.0\n",
            "TUE                               0.0\n",
            "CALC                              0.0\n",
            "MTRANS                            0.0\n",
            "NObeyesdad                        0.0\n",
            "dtype: float64% - Age                               0\n",
            "Height                            0\n",
            "Weight                            0\n",
            "family_history_with_overweight    0\n",
            "FAVC                              0\n",
            "FCVC                              0\n",
            "NCP                               0\n",
            "CAEC                              0\n",
            "SMOKE                             0\n",
            "CH2O                              0\n",
            "SCC                               0\n",
            "FAF                               0\n",
            "TUE                               0\n",
            "CALC                              0\n",
            "MTRANS                            0\n",
            "NObeyesdad                        0\n",
            "dtype: int64\n",
            "FCVC - Age                               0.0\n",
            "Height                            0.0\n",
            "Weight                            0.0\n",
            "family_history_with_overweight    0.0\n",
            "FAVC                              0.0\n",
            "FCVC                              0.0\n",
            "NCP                               0.0\n",
            "CAEC                              0.0\n",
            "SMOKE                             0.0\n",
            "CH2O                              0.0\n",
            "SCC                               0.0\n",
            "FAF                               0.0\n",
            "TUE                               0.0\n",
            "CALC                              0.0\n",
            "MTRANS                            0.0\n",
            "NObeyesdad                        0.0\n",
            "dtype: float64% - Age                               0\n",
            "Height                            0\n",
            "Weight                            0\n",
            "family_history_with_overweight    0\n",
            "FAVC                              0\n",
            "FCVC                              0\n",
            "NCP                               0\n",
            "CAEC                              0\n",
            "SMOKE                             0\n",
            "CH2O                              0\n",
            "SCC                               0\n",
            "FAF                               0\n",
            "TUE                               0\n",
            "CALC                              0\n",
            "MTRANS                            0\n",
            "NObeyesdad                        0\n",
            "dtype: int64\n",
            "NCP - Age                               0.0\n",
            "Height                            0.0\n",
            "Weight                            0.0\n",
            "family_history_with_overweight    0.0\n",
            "FAVC                              0.0\n",
            "FCVC                              0.0\n",
            "NCP                               0.0\n",
            "CAEC                              0.0\n",
            "SMOKE                             0.0\n",
            "CH2O                              0.0\n",
            "SCC                               0.0\n",
            "FAF                               0.0\n",
            "TUE                               0.0\n",
            "CALC                              0.0\n",
            "MTRANS                            0.0\n",
            "NObeyesdad                        0.0\n",
            "dtype: float64% - Age                               0\n",
            "Height                            0\n",
            "Weight                            0\n",
            "family_history_with_overweight    0\n",
            "FAVC                              0\n",
            "FCVC                              0\n",
            "NCP                               0\n",
            "CAEC                              0\n",
            "SMOKE                             0\n",
            "CH2O                              0\n",
            "SCC                               0\n",
            "FAF                               0\n",
            "TUE                               0\n",
            "CALC                              0\n",
            "MTRANS                            0\n",
            "NObeyesdad                        0\n",
            "dtype: int64\n",
            "CAEC - Age                               0.0\n",
            "Height                            0.0\n",
            "Weight                            0.0\n",
            "family_history_with_overweight    0.0\n",
            "FAVC                              0.0\n",
            "FCVC                              0.0\n",
            "NCP                               0.0\n",
            "CAEC                              0.0\n",
            "SMOKE                             0.0\n",
            "CH2O                              0.0\n",
            "SCC                               0.0\n",
            "FAF                               0.0\n",
            "TUE                               0.0\n",
            "CALC                              0.0\n",
            "MTRANS                            0.0\n",
            "NObeyesdad                        0.0\n",
            "dtype: float64% - Age                               0\n",
            "Height                            0\n",
            "Weight                            0\n",
            "family_history_with_overweight    0\n",
            "FAVC                              0\n",
            "FCVC                              0\n",
            "NCP                               0\n",
            "CAEC                              0\n",
            "SMOKE                             0\n",
            "CH2O                              0\n",
            "SCC                               0\n",
            "FAF                               0\n",
            "TUE                               0\n",
            "CALC                              0\n",
            "MTRANS                            0\n",
            "NObeyesdad                        0\n",
            "dtype: int64\n",
            "SMOKE - Age                               0.0\n",
            "Height                            0.0\n",
            "Weight                            0.0\n",
            "family_history_with_overweight    0.0\n",
            "FAVC                              0.0\n",
            "FCVC                              0.0\n",
            "NCP                               0.0\n",
            "CAEC                              0.0\n",
            "SMOKE                             0.0\n",
            "CH2O                              0.0\n",
            "SCC                               0.0\n",
            "FAF                               0.0\n",
            "TUE                               0.0\n",
            "CALC                              0.0\n",
            "MTRANS                            0.0\n",
            "NObeyesdad                        0.0\n",
            "dtype: float64% - Age                               0\n",
            "Height                            0\n",
            "Weight                            0\n",
            "family_history_with_overweight    0\n",
            "FAVC                              0\n",
            "FCVC                              0\n",
            "NCP                               0\n",
            "CAEC                              0\n",
            "SMOKE                             0\n",
            "CH2O                              0\n",
            "SCC                               0\n",
            "FAF                               0\n",
            "TUE                               0\n",
            "CALC                              0\n",
            "MTRANS                            0\n",
            "NObeyesdad                        0\n",
            "dtype: int64\n",
            "CH2O - Age                               0.0\n",
            "Height                            0.0\n",
            "Weight                            0.0\n",
            "family_history_with_overweight    0.0\n",
            "FAVC                              0.0\n",
            "FCVC                              0.0\n",
            "NCP                               0.0\n",
            "CAEC                              0.0\n",
            "SMOKE                             0.0\n",
            "CH2O                              0.0\n",
            "SCC                               0.0\n",
            "FAF                               0.0\n",
            "TUE                               0.0\n",
            "CALC                              0.0\n",
            "MTRANS                            0.0\n",
            "NObeyesdad                        0.0\n",
            "dtype: float64% - Age                               0\n",
            "Height                            0\n",
            "Weight                            0\n",
            "family_history_with_overweight    0\n",
            "FAVC                              0\n",
            "FCVC                              0\n",
            "NCP                               0\n",
            "CAEC                              0\n",
            "SMOKE                             0\n",
            "CH2O                              0\n",
            "SCC                               0\n",
            "FAF                               0\n",
            "TUE                               0\n",
            "CALC                              0\n",
            "MTRANS                            0\n",
            "NObeyesdad                        0\n",
            "dtype: int64\n",
            "SCC - Age                               0.0\n",
            "Height                            0.0\n",
            "Weight                            0.0\n",
            "family_history_with_overweight    0.0\n",
            "FAVC                              0.0\n",
            "FCVC                              0.0\n",
            "NCP                               0.0\n",
            "CAEC                              0.0\n",
            "SMOKE                             0.0\n",
            "CH2O                              0.0\n",
            "SCC                               0.0\n",
            "FAF                               0.0\n",
            "TUE                               0.0\n",
            "CALC                              0.0\n",
            "MTRANS                            0.0\n",
            "NObeyesdad                        0.0\n",
            "dtype: float64% - Age                               0\n",
            "Height                            0\n",
            "Weight                            0\n",
            "family_history_with_overweight    0\n",
            "FAVC                              0\n",
            "FCVC                              0\n",
            "NCP                               0\n",
            "CAEC                              0\n",
            "SMOKE                             0\n",
            "CH2O                              0\n",
            "SCC                               0\n",
            "FAF                               0\n",
            "TUE                               0\n",
            "CALC                              0\n",
            "MTRANS                            0\n",
            "NObeyesdad                        0\n",
            "dtype: int64\n",
            "FAF - Age                               0.0\n",
            "Height                            0.0\n",
            "Weight                            0.0\n",
            "family_history_with_overweight    0.0\n",
            "FAVC                              0.0\n",
            "FCVC                              0.0\n",
            "NCP                               0.0\n",
            "CAEC                              0.0\n",
            "SMOKE                             0.0\n",
            "CH2O                              0.0\n",
            "SCC                               0.0\n",
            "FAF                               0.0\n",
            "TUE                               0.0\n",
            "CALC                              0.0\n",
            "MTRANS                            0.0\n",
            "NObeyesdad                        0.0\n",
            "dtype: float64% - Age                               0\n",
            "Height                            0\n",
            "Weight                            0\n",
            "family_history_with_overweight    0\n",
            "FAVC                              0\n",
            "FCVC                              0\n",
            "NCP                               0\n",
            "CAEC                              0\n",
            "SMOKE                             0\n",
            "CH2O                              0\n",
            "SCC                               0\n",
            "FAF                               0\n",
            "TUE                               0\n",
            "CALC                              0\n",
            "MTRANS                            0\n",
            "NObeyesdad                        0\n",
            "dtype: int64\n",
            "TUE - Age                               0.0\n",
            "Height                            0.0\n",
            "Weight                            0.0\n",
            "family_history_with_overweight    0.0\n",
            "FAVC                              0.0\n",
            "FCVC                              0.0\n",
            "NCP                               0.0\n",
            "CAEC                              0.0\n",
            "SMOKE                             0.0\n",
            "CH2O                              0.0\n",
            "SCC                               0.0\n",
            "FAF                               0.0\n",
            "TUE                               0.0\n",
            "CALC                              0.0\n",
            "MTRANS                            0.0\n",
            "NObeyesdad                        0.0\n",
            "dtype: float64% - Age                               0\n",
            "Height                            0\n",
            "Weight                            0\n",
            "family_history_with_overweight    0\n",
            "FAVC                              0\n",
            "FCVC                              0\n",
            "NCP                               0\n",
            "CAEC                              0\n",
            "SMOKE                             0\n",
            "CH2O                              0\n",
            "SCC                               0\n",
            "FAF                               0\n",
            "TUE                               0\n",
            "CALC                              0\n",
            "MTRANS                            0\n",
            "NObeyesdad                        0\n",
            "dtype: int64\n",
            "CALC - Age                               0.0\n",
            "Height                            0.0\n",
            "Weight                            0.0\n",
            "family_history_with_overweight    0.0\n",
            "FAVC                              0.0\n",
            "FCVC                              0.0\n",
            "NCP                               0.0\n",
            "CAEC                              0.0\n",
            "SMOKE                             0.0\n",
            "CH2O                              0.0\n",
            "SCC                               0.0\n",
            "FAF                               0.0\n",
            "TUE                               0.0\n",
            "CALC                              0.0\n",
            "MTRANS                            0.0\n",
            "NObeyesdad                        0.0\n",
            "dtype: float64% - Age                               0\n",
            "Height                            0\n",
            "Weight                            0\n",
            "family_history_with_overweight    0\n",
            "FAVC                              0\n",
            "FCVC                              0\n",
            "NCP                               0\n",
            "CAEC                              0\n",
            "SMOKE                             0\n",
            "CH2O                              0\n",
            "SCC                               0\n",
            "FAF                               0\n",
            "TUE                               0\n",
            "CALC                              0\n",
            "MTRANS                            0\n",
            "NObeyesdad                        0\n",
            "dtype: int64\n",
            "MTRANS - Age                               0.0\n",
            "Height                            0.0\n",
            "Weight                            0.0\n",
            "family_history_with_overweight    0.0\n",
            "FAVC                              0.0\n",
            "FCVC                              0.0\n",
            "NCP                               0.0\n",
            "CAEC                              0.0\n",
            "SMOKE                             0.0\n",
            "CH2O                              0.0\n",
            "SCC                               0.0\n",
            "FAF                               0.0\n",
            "TUE                               0.0\n",
            "CALC                              0.0\n",
            "MTRANS                            0.0\n",
            "NObeyesdad                        0.0\n",
            "dtype: float64% - Age                               0\n",
            "Height                            0\n",
            "Weight                            0\n",
            "family_history_with_overweight    0\n",
            "FAVC                              0\n",
            "FCVC                              0\n",
            "NCP                               0\n",
            "CAEC                              0\n",
            "SMOKE                             0\n",
            "CH2O                              0\n",
            "SCC                               0\n",
            "FAF                               0\n",
            "TUE                               0\n",
            "CALC                              0\n",
            "MTRANS                            0\n",
            "NObeyesdad                        0\n",
            "dtype: int64\n",
            "NObeyesdad - Age                               0.0\n",
            "Height                            0.0\n",
            "Weight                            0.0\n",
            "family_history_with_overweight    0.0\n",
            "FAVC                              0.0\n",
            "FCVC                              0.0\n",
            "NCP                               0.0\n",
            "CAEC                              0.0\n",
            "SMOKE                             0.0\n",
            "CH2O                              0.0\n",
            "SCC                               0.0\n",
            "FAF                               0.0\n",
            "TUE                               0.0\n",
            "CALC                              0.0\n",
            "MTRANS                            0.0\n",
            "NObeyesdad                        0.0\n",
            "dtype: float64% - Age                               0\n",
            "Height                            0\n",
            "Weight                            0\n",
            "family_history_with_overweight    0\n",
            "FAVC                              0\n",
            "FCVC                              0\n",
            "NCP                               0\n",
            "CAEC                              0\n",
            "SMOKE                             0\n",
            "CH2O                              0\n",
            "SCC                               0\n",
            "FAF                               0\n",
            "TUE                               0\n",
            "CALC                              0\n",
            "MTRANS                            0\n",
            "NObeyesdad                        0\n",
            "dtype: int64\n"
          ]
        }
      ]
    },
    {
      "cell_type": "code",
      "source": [
        "sns.countplot(x= 'family_history_with_overweight', data = Datos, palette=\"GnBu_d\",edgecolor=\"black\")"
      ],
      "metadata": {
        "id": "okNLEdTLP9fI",
        "outputId": "81fc0e63-5144-49cf-9566-11a64d5ec9ba",
        "colab": {
          "base_uri": "https://localhost:8080/",
          "height": 297
        }
      },
      "execution_count": 9,
      "outputs": [
        {
          "output_type": "execute_result",
          "data": {
            "text/plain": [
              "<matplotlib.axes._subplots.AxesSubplot at 0x7f73fafa0d90>"
            ]
          },
          "metadata": {},
          "execution_count": 9
        },
        {
          "output_type": "display_data",
          "data": {
            "text/plain": [
              "<Figure size 432x288 with 1 Axes>"
            ],
            "image/png": "[encoded data removed]"
          },
          "metadata": {
            "needs_background": "light"
          }
        }
      ]
    },
    {
      "cell_type": "code",
      "source": [
        "sns.countplot(x= 'MTRANS', data = Datos, palette=\"flag\",edgecolor=\"black\")"
      ],
      "metadata": {
        "colab": {
          "base_uri": "https://localhost:8080/",
          "height": 297
        },
        "id": "ciE67D-FaDPf",
        "outputId": "7b851ce3-5429-421a-f356-90f2aaba87e0"
      },
      "execution_count": 10,
      "outputs": [
        {
          "output_type": "execute_result",
          "data": {
            "text/plain": [
              "<matplotlib.axes._subplots.AxesSubplot at 0x7f73faf612d0>"
            ]
          },
          "metadata": {},
          "execution_count": 10
        },
        {
          "output_type": "display_data",
          "data": {
            "text/plain": [
              "<Figure size 432x288 with 1 Axes>"
            ],
            "image/png": "[encoded data removed]"
          },
          "metadata": {
            "needs_background": "light"
          }
        }
      ]
    },
    {
      "cell_type": "code",
      "source": [
        "sns.countplot(x= 'CALC', data = Datos, palette=\"Greens_r\",edgecolor=\"black\")"
      ],
      "metadata": {
        "colab": {
          "base_uri": "https://localhost:8080/",
          "height": 296
        },
        "id": "yh6HgbN6aVF4",
        "outputId": "970ecac1-92f2-4dcb-b169-36b2b55d004f"
      },
      "execution_count": 11,
      "outputs": [
        {
          "output_type": "execute_result",
          "data": {
            "text/plain": [
              "<matplotlib.axes._subplots.AxesSubplot at 0x7f73faeefb10>"
            ]
          },
          "metadata": {},
          "execution_count": 11
        },
        {
          "output_type": "display_data",
          "data": {
            "text/plain": [
              "<Figure size 432x288 with 1 Axes>"
            ],
            "image/png": "[encoded data removed]"
          },
          "metadata": {
            "needs_background": "light"
          }
        }
      ]
    },
    {
      "cell_type": "code",
      "source": [
        "sns.boxplot(x = 'Weight', y = 'SCC', data = Datos)"
      ],
      "metadata": {
        "colab": {
          "base_uri": "https://localhost:8080/",
          "height": 296
        },
        "id": "KMASlO7xrNO-",
        "outputId": "1099c511-e31f-4384-a25e-84d3ee1d795c"
      },
      "execution_count": 18,
      "outputs": [
        {
          "output_type": "execute_result",
          "data": {
            "text/plain": [
              "<matplotlib.axes._subplots.AxesSubplot at 0x7f73f48213d0>"
            ]
          },
          "metadata": {},
          "execution_count": 18
        },
        {
          "output_type": "display_data",
          "data": {
            "text/plain": [
              "<Figure size 432x288 with 1 Axes>"
            ],
            "image/png": "[encoded data removed]"
          },
          "metadata": {
            "needs_background": "light"
          }
        }
      ]
    },
    {
      "cell_type": "code",
      "source": [
        "sns.boxplot(x = 'Weight', y = 'CAEC', data = Datos)"
      ],
      "metadata": {
        "colab": {
          "base_uri": "https://localhost:8080/",
          "height": 296
        },
        "id": "JiWC3zFdrWgF",
        "outputId": "cb69670d-4e4d-476a-ec16-0ae8f26c40c5"
      },
      "execution_count": 20,
      "outputs": [
        {
          "output_type": "execute_result",
          "data": {
            "text/plain": [
              "<matplotlib.axes._subplots.AxesSubplot at 0x7f73f479ca90>"
            ]
          },
          "metadata": {},
          "execution_count": 20
        },
        {
          "output_type": "display_data",
          "data": {
            "text/plain": [
              "<Figure size 432x288 with 1 Axes>"
            ],
            "image/png": "[encoded data removed]"
          },
          "metadata": {
            "needs_background": "light"
          }
        }
      ]
    }
  ]
}